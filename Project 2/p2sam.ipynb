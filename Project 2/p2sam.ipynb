{
 "cells": [
  {
   "cell_type": "code",
   "execution_count": 67,
   "metadata": {},
   "outputs": [
    {
     "data": {
      "text/plain": [
       "0.952513966480447"
      ]
     },
     "execution_count": 67,
     "metadata": {},
     "output_type": "execute_result"
    }
   ],
   "source": [
    "import pandas as pd\n",
    "import numpy as np\n",
    "from sklearn.linear_model import LogisticRegression\n",
    "from sklearn.metrics import accuracy_score\n",
    "log=LogisticRegression()\n",
    "train=pd.read_csv('train.csv')\n",
    "test_x=pd.read_csv('test_X.csv')\n",
    "test_y=pd.read_csv('test_Y.csv')\n",
    "\n",
    "## Preparing Train File\n",
    "train=train.replace(['male', 'female'], ['1','2'])\n",
    "train=train.replace(['C', 'S','Q'], ['1','2','3'])\n",
    "train=train.drop(columns=['Ticket','Cabin','Name','PassengerId','Embarked'])\n",
    "train=train.fillna(0)\n",
    "\n",
    "## Preparing Test File\n",
    "test_x=test_x.replace(['male', 'female'], ['1','2'])\n",
    "test_x=test_x.replace(['C', 'S','Q'], ['1','2','3'])\n",
    "test_x=test_x.drop(columns=['Ticket','Cabin','Name','PassengerId','Embarked'])\n",
    "test_x=test_x.fillna(0)\n",
    "\n",
    "## Preparing the Actuall Survival File of the Test file to Check Accuracy\n",
    "test_y=pd.read_csv('test_Y.csv')\n",
    "test_y=test_y.drop(columns=['PassengerId']).values\n",
    "\n",
    "## Splitting the Train File to Train the Model\n",
    "train_x=train.drop(['Survived'], axis=1).values\n",
    "train_y=train['Survived'].values\n",
    "\n",
    "## Fitting The Train File to the Model \n",
    "log.fit(train_x,train_y)\n",
    "\n",
    "## Performing Prediction on Test File\n",
    "pred = log.predict(test_x)\n",
    "\n",
    "## Checking Accuracy Against the Actual Survival Data\n",
    "accuracy_score(test_y,pred)\n",
    "\n"
   ]
  }
 ],
 "metadata": {
  "kernelspec": {
   "display_name": "Python 3",
   "language": "python",
   "name": "python3"
  },
  "language_info": {
   "codemirror_mode": {
    "name": "ipython",
    "version": 3
   },
   "file_extension": ".py",
   "mimetype": "text/x-python",
   "name": "python",
   "nbconvert_exporter": "python",
   "pygments_lexer": "ipython3",
   "version": "3.6.5"
  }
 },
 "nbformat": 4,
 "nbformat_minor": 2
}
